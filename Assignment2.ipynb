{
 "cells": [
  {
   "cell_type": "raw",
   "id": "317bd5b7",
   "metadata": {},
   "source": [
    "                                     Homework"
   ]
  },
  {
   "cell_type": "markdown",
   "id": "9c09a037",
   "metadata": {},
   "source": [
    "1. Try to split a string after conversion of entire string in uppercase.\n",
    "2. try to convert the whole string into lower case \n",
    "3 . Try to capitalize the whole string \n",
    "4 . Write a diference between isalnum() and isalpha() \n",
    "5. Try to give an example of expand tab \n",
    "6 . Give an example of strip , lstrip and rstrip\n",
    "7. Replace a string charecter by another charecter by taking your own example. \n",
    "8 . Try to give a defination of string center function with and exmple "
   ]
  },
  {
   "cell_type": "code",
   "execution_count": 1,
   "id": "400ce228",
   "metadata": {},
   "outputs": [],
   "source": [
    "str = 'Avengers' "
   ]
  },
  {
   "cell_type": "code",
   "execution_count": 2,
   "id": "b7fcb26d",
   "metadata": {},
   "outputs": [],
   "source": [
    "str = str.upper()"
   ]
  },
  {
   "cell_type": "code",
   "execution_count": 3,
   "id": "05fabead",
   "metadata": {},
   "outputs": [
    {
     "data": {
      "text/plain": [
       "'AVENGERS'"
      ]
     },
     "execution_count": 3,
     "metadata": {},
     "output_type": "execute_result"
    }
   ],
   "source": [
    "str    #1"
   ]
  },
  {
   "cell_type": "code",
   "execution_count": 4,
   "id": "cb5227fe",
   "metadata": {},
   "outputs": [
    {
     "data": {
      "text/plain": [
       "['AV', 'NG', 'RS']"
      ]
     },
     "execution_count": 4,
     "metadata": {},
     "output_type": "execute_result"
    }
   ],
   "source": [
    "str.split('E')    #2"
   ]
  },
  {
   "cell_type": "code",
   "execution_count": 19,
   "id": "9cce6f01",
   "metadata": {},
   "outputs": [
    {
     "data": {
      "text/plain": [
       "'Avengers'"
      ]
     },
     "execution_count": 19,
     "metadata": {},
     "output_type": "execute_result"
    }
   ],
   "source": [
    "str.capitalize()  #3"
   ]
  },
  {
   "cell_type": "code",
   "execution_count": 22,
   "id": "176079c4",
   "metadata": {},
   "outputs": [],
   "source": [
    " s = '             rohith         sai         teja             '\n",
    "    "
   ]
  },
  {
   "cell_type": "code",
   "execution_count": 21,
   "id": "12059da5",
   "metadata": {},
   "outputs": [
    {
     "data": {
      "text/plain": [
       "'rohith         sai         teja'"
      ]
     },
     "execution_count": 21,
     "metadata": {},
     "output_type": "execute_result"
    }
   ],
   "source": [
    "s.strip()"
   ]
  },
  {
   "cell_type": "code",
   "execution_count": 23,
   "id": "7040603d",
   "metadata": {},
   "outputs": [
    {
     "data": {
      "text/plain": [
       "'rohith         sai         teja             '"
      ]
     },
     "execution_count": 23,
     "metadata": {},
     "output_type": "execute_result"
    }
   ],
   "source": [
    "s.lstrip()"
   ]
  },
  {
   "cell_type": "code",
   "execution_count": 24,
   "id": "245964de",
   "metadata": {},
   "outputs": [
    {
     "data": {
      "text/plain": [
       "'             rohith         sai         teja'"
      ]
     },
     "execution_count": 24,
     "metadata": {},
     "output_type": "execute_result"
    }
   ],
   "source": [
    "s.rstrip()"
   ]
  },
  {
   "cell_type": "code",
   "execution_count": 27,
   "id": "f59686e4",
   "metadata": {},
   "outputs": [
    {
     "data": {
      "text/plain": [
       "'AVENGERS'"
      ]
     },
     "execution_count": 27,
     "metadata": {},
     "output_type": "execute_result"
    }
   ],
   "source": [
    "str"
   ]
  },
  {
   "cell_type": "code",
   "execution_count": 28,
   "id": "93cd5dfd",
   "metadata": {},
   "outputs": [
    {
     "data": {
      "text/plain": [
       "'BVENGERS'"
      ]
     },
     "execution_count": 28,
     "metadata": {},
     "output_type": "execute_result"
    }
   ],
   "source": [
    "str.replace('A','B')"
   ]
  },
  {
   "cell_type": "code",
   "execution_count": 29,
   "id": "f81b9139",
   "metadata": {},
   "outputs": [
    {
     "data": {
      "text/plain": [
       "'AVENGERS'"
      ]
     },
     "execution_count": 29,
     "metadata": {},
     "output_type": "execute_result"
    }
   ],
   "source": [
    "str"
   ]
  },
  {
   "cell_type": "code",
   "execution_count": 30,
   "id": "b203e757",
   "metadata": {},
   "outputs": [
    {
     "data": {
      "text/plain": [
       "'AVZNGZRS'"
      ]
     },
     "execution_count": 30,
     "metadata": {},
     "output_type": "execute_result"
    }
   ],
   "source": [
    "str.replace('E' , 'Z')\n"
   ]
  }
 ],
 "metadata": {
  "kernelspec": {
   "display_name": "Python 3 (ipykernel)",
   "language": "python",
   "name": "python3"
  },
  "language_info": {
   "codemirror_mode": {
    "name": "ipython",
    "version": 3
   },
   "file_extension": ".py",
   "mimetype": "text/x-python",
   "name": "python",
   "nbconvert_exporter": "python",
   "pygments_lexer": "ipython3",
   "version": "3.9.12"
  }
 },
 "nbformat": 4,
 "nbformat_minor": 5
}
